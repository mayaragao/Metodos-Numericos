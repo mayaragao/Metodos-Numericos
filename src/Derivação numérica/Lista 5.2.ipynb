{
 "cells": [
  {
   "cell_type": "markdown",
   "metadata": {},
   "source": [
    "# Algebra Linear Computacional - Lista 5.2\n",
    "\n",
    "## Mayara Aragão\n",
    "\n",
    "### Tarefa 1)\n",
    "#### Derivação numérica\n"
   ]
  },
  {
   "cell_type": "code",
   "execution_count": 1,
   "metadata": {},
   "outputs": [],
   "source": [
    "import numpy as np"
   ]
  },
  {
   "cell_type": "code",
   "execution_count": 5,
   "metadata": {},
   "outputs": [],
   "source": [
    "def derivada(x, delta, regra):\n",
    "    if regra == 1:\n",
    "        df = (f(x+delta) - f(x-delta))/(2*delta) # Diferença central\n",
    "    elif regra == 2:\n",
    "        df = (f(x+delta)-f(x))/delta # Passo à frente\n",
    "    else:\n",
    "        df = (f(x) - f(x-delta))/delta # Passo atrás\n",
    "    return df"
   ]
  },
  {
   "cell_type": "markdown",
   "metadata": {},
   "source": [
    "### Tarefa 2)\n",
    "#### Procedimento de interpolação de Richard"
   ]
  },
  {
   "cell_type": "code",
   "execution_count": 7,
   "metadata": {},
   "outputs": [],
   "source": [
    "def derivada_richard(x, delta, regra, p):\n",
    "    df1 = derivada(x, delta, regra)\n",
    "    delta2 = delta/2\n",
    "    df2 = derivada(x, delta2, regra)\n",
    "    q = delta/delta2\n",
    "    a0 = df1 + (df1 - df2)/(q**(-p) -1)\n",
    "    return a0"
   ]
  },
  {
   "cell_type": "markdown",
   "metadata": {},
   "source": [
    "### Tarefa 3)\n",
    "Utilizando os programas acima, calcular as derivadas seguintes funções:\n",
    "### i.\n",
    "$$f(x) = x^3 + \\frac{1}{e^x}$$ $$x=3$$"
   ]
  },
  {
   "cell_type": "markdown",
   "metadata": {},
   "source": [
    "Defindo a função:"
   ]
  },
  {
   "cell_type": "code",
   "execution_count": 38,
   "metadata": {},
   "outputs": [],
   "source": [
    "def f(x):\n",
    "    return x**3 + 1/np.exp(x)"
   ]
  },
  {
   "cell_type": "markdown",
   "metadata": {},
   "source": [
    "Utilizarei para o cálculo das derivadas numéricas, $\\Delta x = 0.001 $"
   ]
  },
  {
   "cell_type": "code",
   "execution_count": 39,
   "metadata": {},
   "outputs": [],
   "source": [
    "x=3\n",
    "delta = 0.001"
   ]
  },
  {
   "cell_type": "markdown",
   "metadata": {},
   "source": [
    "#### Diferença central"
   ]
  },
  {
   "cell_type": "code",
   "execution_count": 17,
   "metadata": {},
   "outputs": [
    {
     "name": "stdout",
     "output_type": "stream",
     "text": [
      "A derivada no ponto  3  é: 26.95021392332997\n"
     ]
    }
   ],
   "source": [
    "d = derivada(x, delta, 1)\n",
    "print('A derivada no ponto ', x, ' é:', d)"
   ]
  },
  {
   "cell_type": "markdown",
   "metadata": {},
   "source": [
    "#### Passo à frente"
   ]
  },
  {
   "cell_type": "code",
   "execution_count": 18,
   "metadata": {},
   "outputs": [
    {
     "name": "stdout",
     "output_type": "stream",
     "text": [
      "A derivada no ponto  3  é: 26.959238816868236\n"
     ]
    }
   ],
   "source": [
    "d = derivada(x, delta, 2)\n",
    "print('A derivada no ponto ', x, ' é:', d)"
   ]
  },
  {
   "cell_type": "markdown",
   "metadata": {},
   "source": [
    "#### Passo atrás"
   ]
  },
  {
   "cell_type": "code",
   "execution_count": 19,
   "metadata": {},
   "outputs": [
    {
     "name": "stdout",
     "output_type": "stream",
     "text": [
      "A derivada no ponto  3  é: 26.9411890297917\n"
     ]
    }
   ],
   "source": [
    "d = derivada(x, delta, 3)\n",
    "print('A derivada no ponto ', x, ' é:', d)"
   ]
  },
  {
   "cell_type": "markdown",
   "metadata": {},
   "source": [
    "#### Interpolação de Richard\n",
    "\n",
    "#### Diferença central\n",
    "Utilizando $p=1$ inicialmente:"
   ]
  },
  {
   "cell_type": "code",
   "execution_count": 21,
   "metadata": {},
   "outputs": [
    {
     "name": "stdout",
     "output_type": "stream",
     "text": [
      "A derivada no ponto  3  é: 26.950212435798093\n"
     ]
    }
   ],
   "source": [
    "d = derivada_richard(x, delta, 1, 1)\n",
    "print('A derivada no ponto ', x, ' é:', d)"
   ]
  },
  {
   "cell_type": "markdown",
   "metadata": {},
   "source": [
    "Para $p=2$:"
   ]
  },
  {
   "cell_type": "code",
   "execution_count": 22,
   "metadata": {},
   "outputs": [
    {
     "name": "stdout",
     "output_type": "stream",
     "text": [
      "A derivada no ponto  3  é: 26.950212931642053\n"
     ]
    }
   ],
   "source": [
    "d = derivada_richard(x, delta, 1, 2)\n",
    "print('A derivada no ponto ', x, ' é:', d)"
   ]
  },
  {
   "cell_type": "markdown",
   "metadata": {},
   "source": [
    "#### Passo à frente\n",
    "Para $p=1$:"
   ]
  },
  {
   "cell_type": "code",
   "execution_count": 40,
   "metadata": {},
   "outputs": [
    {
     "name": "stdout",
     "output_type": "stream",
     "text": [
      "A derivada no ponto  3  é: 26.950212435796317\n"
     ]
    }
   ],
   "source": [
    "d = derivada_richard(x, delta, 2, 1)\n",
    "print('A derivada no ponto ', x, ' é:', d)"
   ]
  },
  {
   "cell_type": "markdown",
   "metadata": {},
   "source": [
    "Para $p=2$:"
   ]
  },
  {
   "cell_type": "code",
   "execution_count": 41,
   "metadata": {},
   "outputs": [
    {
     "name": "stdout",
     "output_type": "stream",
     "text": [
      "A derivada no ponto  3  é: 26.953221229486957\n"
     ]
    }
   ],
   "source": [
    "d = derivada_richard(x, delta, 2, 2)\n",
    "print('A derivada no ponto ', x, ' é:', d)"
   ]
  },
  {
   "cell_type": "markdown",
   "metadata": {},
   "source": [
    "#### Passo atrás:\n",
    "Para $p=1$:"
   ]
  },
  {
   "cell_type": "code",
   "execution_count": 43,
   "metadata": {},
   "outputs": [
    {
     "name": "stdout",
     "output_type": "stream",
     "text": [
      "A derivada no ponto  3  é: 26.95021243579987\n"
     ]
    }
   ],
   "source": [
    "d = derivada_richard(x, delta, 3, 1)\n",
    "print('A derivada no ponto ', x, ' é:', d)"
   ]
  },
  {
   "cell_type": "markdown",
   "metadata": {},
   "source": [
    "Para $p=2$:"
   ]
  },
  {
   "cell_type": "code",
   "execution_count": 44,
   "metadata": {},
   "outputs": [
    {
     "name": "stdout",
     "output_type": "stream",
     "text": [
      "A derivada no ponto  3  é: 26.947204633797146\n"
     ]
    }
   ],
   "source": [
    "d = derivada_richard(x, delta, 3, 2)\n",
    "print('A derivada no ponto ', x, ' é:', d)"
   ]
  },
  {
   "cell_type": "markdown",
   "metadata": {},
   "source": [
    "Valor analítico da função dada no ponto $x=3$ é dada por $\\frac{d f(x)}{dx} = 26.9502129316$. Este valor foi encontrado na interpolação de richard com $p=2$ pelo método da diferença central, mas os outros métodos também tiveram bons resultados.\n",
    "O método que obteve pior resultado, em ambos os casos foi o do passo para trás, no caso normal e para richard com $p=2$ "
   ]
  },
  {
   "cell_type": "markdown",
   "metadata": {},
   "source": [
    "### ii.\n",
    "$$ f(x) = x^{\\frac{1}{3}} + ln(x) $$\n",
    "$$x=2$$"
   ]
  },
  {
   "cell_type": "markdown",
   "metadata": {},
   "source": [
    "Defindo a função:"
   ]
  },
  {
   "cell_type": "code",
   "execution_count": 45,
   "metadata": {},
   "outputs": [],
   "source": [
    "def f(x):\n",
    "    return x**(1/3)+np.log(x)"
   ]
  },
  {
   "cell_type": "code",
   "execution_count": 46,
   "metadata": {},
   "outputs": [],
   "source": [
    "x=2\n",
    "delta = 0.001"
   ]
  },
  {
   "cell_type": "markdown",
   "metadata": {},
   "source": [
    "#### Diferença central"
   ]
  },
  {
   "cell_type": "code",
   "execution_count": 27,
   "metadata": {},
   "outputs": [
    {
     "name": "stdout",
     "output_type": "stream",
     "text": [
      "A derivada no ponto  2  é: 0.7099868930373621\n"
     ]
    }
   ],
   "source": [
    "d = derivada(x, delta, 1)\n",
    "print('A derivada no ponto ', x, ' é:', d)"
   ]
  },
  {
   "cell_type": "markdown",
   "metadata": {},
   "source": [
    "#### Passo à frente"
   ]
  },
  {
   "cell_type": "code",
   "execution_count": 28,
   "metadata": {},
   "outputs": [
    {
     "name": "stdout",
     "output_type": "stream",
     "text": [
      "A derivada no ponto  2  é: 0.709826895211707\n"
     ]
    }
   ],
   "source": [
    "d = derivada(x, delta, 2)\n",
    "print('A derivada no ponto ', x, ' é:', d)"
   ]
  },
  {
   "cell_type": "markdown",
   "metadata": {},
   "source": [
    "#### Passo atrás"
   ]
  },
  {
   "cell_type": "code",
   "execution_count": 29,
   "metadata": {},
   "outputs": [
    {
     "name": "stdout",
     "output_type": "stream",
     "text": [
      "A derivada no ponto  2  é: 0.7101468908630171\n"
     ]
    }
   ],
   "source": [
    "d = derivada(x, delta, 3)\n",
    "print('A derivada no ponto ', x, ' é:', d)"
   ]
  },
  {
   "cell_type": "markdown",
   "metadata": {},
   "source": [
    "#### Interpolação de Richard\n",
    "\n",
    "#### Diferença central\n",
    "Utilizando $p=1$ inicialmente:"
   ]
  },
  {
   "cell_type": "code",
   "execution_count": 36,
   "metadata": {},
   "outputs": [
    {
     "name": "stdout",
     "output_type": "stream",
     "text": [
      "A derivada no ponto  2  é: 0.7099868159550216\n"
     ]
    }
   ],
   "source": [
    "d = derivada_richard(x, delta, 1, 1)\n",
    "print('A derivada no ponto ', x, ' é:', d)"
   ]
  },
  {
   "cell_type": "markdown",
   "metadata": {},
   "source": [
    "Agora para $p=2$:"
   ]
  },
  {
   "cell_type": "code",
   "execution_count": 32,
   "metadata": {},
   "outputs": [
    {
     "name": "stdout",
     "output_type": "stream",
     "text": [
      "A derivada no ponto  2  é: 0.7099868416491351\n"
     ]
    }
   ],
   "source": [
    "d = derivada_richard(x, delta, 1, 2)\n",
    "print('A derivada no ponto ', x, ' é:', d)"
   ]
  },
  {
   "cell_type": "markdown",
   "metadata": {},
   "source": [
    "#### Passo à frente\n",
    "Para $p=1$:"
   ]
  },
  {
   "cell_type": "code",
   "execution_count": 34,
   "metadata": {},
   "outputs": [
    {
     "name": "stdout",
     "output_type": "stream",
     "text": [
      "A derivada no ponto  2  é: 0.7099868159696765\n"
     ]
    }
   ],
   "source": [
    "d = derivada_richard(x, delta, 2, 1)\n",
    "print('A derivada no ponto ', x, ' é:', d)"
   ]
  },
  {
   "cell_type": "markdown",
   "metadata": {},
   "source": [
    "Para $p=2$:"
   ]
  },
  {
   "cell_type": "code",
   "execution_count": 35,
   "metadata": {},
   "outputs": [
    {
     "name": "stdout",
     "output_type": "stream",
     "text": [
      "A derivada no ponto  2  é: 0.7099335090503534\n"
     ]
    }
   ],
   "source": [
    "d = derivada_richard(x, delta, 2, 2)\n",
    "print('A derivada no ponto ', x, ' é:', d)"
   ]
  },
  {
   "cell_type": "markdown",
   "metadata": {},
   "source": [
    "#### Passo atrás\n",
    "Para $p=1$:"
   ]
  },
  {
   "cell_type": "code",
   "execution_count": 47,
   "metadata": {},
   "outputs": [
    {
     "name": "stdout",
     "output_type": "stream",
     "text": [
      "A derivada no ponto  2  é: 0.7099868159403666\n"
     ]
    }
   ],
   "source": [
    "d = derivada_richard(x, delta, 3, 1)\n",
    "print('A derivada no ponto ', x, ' é:', d)"
   ]
  },
  {
   "cell_type": "markdown",
   "metadata": {},
   "source": [
    "Para $p=2$:"
   ]
  },
  {
   "cell_type": "code",
   "execution_count": 48,
   "metadata": {},
   "outputs": [
    {
     "name": "stdout",
     "output_type": "stream",
     "text": [
      "A derivada no ponto  2  é: 0.7100401742479168\n"
     ]
    }
   ],
   "source": [
    "d = derivada_richard(x, delta, 3, 2)\n",
    "print('A derivada no ponto ', x, ' é:', d)"
   ]
  },
  {
   "cell_type": "markdown",
   "metadata": {},
   "source": [
    "Valor analítico da função dada no ponto $x=2$ é dada por $\\frac{d f(x)}{dx} = 0.70998684164$. Este valor também foi encontrado na interpolação de richard com $p=2$ pelo método da diferença central, mas os outros métodos também estão próxímos ao valor analítico considerando uma tolerância de pelo menos $10^{-4}$, com excessão do método do passo atrás que obteve piores resultados considerando $p=2$."
   ]
  },
  {
   "cell_type": "markdown",
   "metadata": {},
   "source": [
    "### iii.\n",
    "$$ f(x) = 1 - exp \\left( - \\left  ( \\frac{x}{5} \\right ) ^2 \\right)$$\n",
    "$$x=6$$"
   ]
  },
  {
   "cell_type": "code",
   "execution_count": 49,
   "metadata": {},
   "outputs": [],
   "source": [
    "def f(x):\n",
    "    return 1-np.exp(-x**2/25.0)"
   ]
  },
  {
   "cell_type": "code",
   "execution_count": 50,
   "metadata": {},
   "outputs": [],
   "source": [
    "x=6\n",
    "delta = 0.001"
   ]
  },
  {
   "cell_type": "markdown",
   "metadata": {},
   "source": [
    "#### Diferença central"
   ]
  },
  {
   "cell_type": "code",
   "execution_count": 51,
   "metadata": {},
   "outputs": [
    {
     "name": "stdout",
     "output_type": "stream",
     "text": [
      "A derivada no ponto  6  é: 0.11372532398545854\n"
     ]
    }
   ],
   "source": [
    "d = derivada(x, delta, 1)\n",
    "print('A derivada no ponto ', x, ' é:', d)"
   ]
  },
  {
   "cell_type": "markdown",
   "metadata": {},
   "source": [
    "#### Passo à frente"
   ]
  },
  {
   "cell_type": "code",
   "execution_count": 52,
   "metadata": {},
   "outputs": [
    {
     "name": "stdout",
     "output_type": "stream",
     "text": [
      "A derivada no ponto  6  é: 0.11370750701844567\n"
     ]
    }
   ],
   "source": [
    "d = derivada(x, delta, 2)\n",
    "print('A derivada no ponto ', x, ' é:', d)"
   ]
  },
  {
   "cell_type": "markdown",
   "metadata": {},
   "source": [
    "#### Passo atrás"
   ]
  },
  {
   "cell_type": "code",
   "execution_count": 53,
   "metadata": {},
   "outputs": [
    {
     "name": "stdout",
     "output_type": "stream",
     "text": [
      "A derivada no ponto  6  é: 0.1137431409524714\n"
     ]
    }
   ],
   "source": [
    "d = derivada(x, delta, 3)\n",
    "print('A derivada no ponto ', x, ' é:', d)"
   ]
  },
  {
   "cell_type": "markdown",
   "metadata": {},
   "source": [
    "#### Interpolação de Richard\n",
    "\n",
    "#### Diferença central\n",
    "Utilizando $p=1$ inicialmente:"
   ]
  },
  {
   "cell_type": "code",
   "execution_count": 54,
   "metadata": {},
   "outputs": [
    {
     "name": "stdout",
     "output_type": "stream",
     "text": [
      "A derivada no ponto  6  é: 0.11372532425835136\n"
     ]
    }
   ],
   "source": [
    "d = derivada_richard(x, delta, 1, 1)\n",
    "print('A derivada no ponto ', x, ' é:', d)"
   ]
  },
  {
   "cell_type": "markdown",
   "metadata": {},
   "source": [
    "Utilizando $p=2$:"
   ]
  },
  {
   "cell_type": "code",
   "execution_count": 55,
   "metadata": {},
   "outputs": [
    {
     "name": "stdout",
     "output_type": "stream",
     "text": [
      "A derivada no ponto  6  é: 0.11372532416738708\n"
     ]
    }
   ],
   "source": [
    "d = derivada_richard(x, delta, 1, 2)\n",
    "print('A derivada no ponto ', x, ' é:', d)"
   ]
  },
  {
   "cell_type": "markdown",
   "metadata": {},
   "source": [
    "#### Passo à frente\n",
    "Para $p=1$:"
   ]
  },
  {
   "cell_type": "code",
   "execution_count": 56,
   "metadata": {},
   "outputs": [
    {
     "name": "stdout",
     "output_type": "stream",
     "text": [
      "A derivada no ponto  6  é: 0.11372532425835136\n"
     ]
    }
   ],
   "source": [
    "d = derivada_richard(x, delta, 2, 1)\n",
    "print('A derivada no ponto ', x, ' é:', d)"
   ]
  },
  {
   "cell_type": "markdown",
   "metadata": {},
   "source": [
    "Para $p=2$:"
   ]
  },
  {
   "cell_type": "code",
   "execution_count": 58,
   "metadata": {},
   "outputs": [
    {
     "name": "stdout",
     "output_type": "stream",
     "text": [
      "A derivada no ponto  6  é: 0.1137193851783828\n"
     ]
    }
   ],
   "source": [
    "d = derivada_richard(x, delta, 2, 2)\n",
    "print('A derivada no ponto ', x, ' é:', d)"
   ]
  },
  {
   "cell_type": "markdown",
   "metadata": {},
   "source": [
    "#### Passo atrás\n",
    "Para $p=1$:"
   ]
  },
  {
   "cell_type": "code",
   "execution_count": 60,
   "metadata": {},
   "outputs": [
    {
     "name": "stdout",
     "output_type": "stream",
     "text": [
      "A derivada no ponto  6  é: 0.11372532425835136\n"
     ]
    }
   ],
   "source": [
    "d = derivada_richard(x, delta, 3, 1)\n",
    "print('A derivada no ponto ', x, ' é:', d)"
   ]
  },
  {
   "cell_type": "markdown",
   "metadata": {},
   "source": [
    "Para $p=2$:"
   ]
  },
  {
   "cell_type": "code",
   "execution_count": 61,
   "metadata": {},
   "outputs": [
    {
     "name": "stdout",
     "output_type": "stream",
     "text": [
      "A derivada no ponto  6  é: 0.11373126315639137\n"
     ]
    }
   ],
   "source": [
    "d = derivada_richard(x, delta, 3, 2)\n",
    "print('A derivada no ponto ', x, ' é:', d)"
   ]
  },
  {
   "cell_type": "markdown",
   "metadata": {},
   "source": [
    "O valor analítico da função dada no ponto $x=6$ é dada por $\\frac{d f(x)}{dx} = 0.1137253241$. Este valor também foi encontrado na interpolação de richard com $p=2$ pelo método da diferença central, mas os outros métodos também estão próxímos ao valor analítico. Concluindo então que todos são eficientes, embora a interpolação de richard com $p=2$ tenha se aproximado mais ao valor desejado."
   ]
  }
 ],
 "metadata": {
  "kernelspec": {
   "display_name": "Python 3",
   "language": "python",
   "name": "python3"
  },
  "language_info": {
   "codemirror_mode": {
    "name": "ipython",
    "version": 3
   },
   "file_extension": ".py",
   "mimetype": "text/x-python",
   "name": "python",
   "nbconvert_exporter": "python",
   "pygments_lexer": "ipython3",
   "version": "3.6.11"
  }
 },
 "nbformat": 4,
 "nbformat_minor": 4
}
